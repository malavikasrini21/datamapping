{
 "cells": [
  {
   "cell_type": "code",
   "execution_count": 7,
   "id": "3a909175",
   "metadata": {},
   "outputs": [
    {
     "name": "stdout",
     "output_type": "stream",
     "text": [
      "Hello\n"
     ]
    }
   ],
   "source": [
    "\n",
    "import pandas as pd\n",
    "import sklearn\n",
    "n='TargetDataBasecsv.csv'\n",
    "m='completedclient.csv'\n",
    "df1=pd.read_csv(m)\n",
    "df=pd.read_csv(n)\n"
   ]
  },
  {
   "cell_type": "code",
   "execution_count": null,
   "id": "832816b6",
   "metadata": {},
   "outputs": [],
   "source": [
    "ym=df.columns.values.tolist()\n",
    "ym\n"
   ]
  },
  {
   "cell_type": "code",
   "execution_count": null,
   "id": "31f1ba2a",
   "metadata": {},
   "outputs": [],
   "source": [
    "ym1=df1.columns.values.tolist()\n",
    "ym1\n"
   ]
  },
  {
   "cell_type": "code",
   "execution_count": null,
   "id": "ace6607c",
   "metadata": {},
   "outputs": [],
   "source": [
    "import tensorflow_hub as hub\n",
    "import tensorflow_text as text\n",
    "preproces_url ='https://tfhub.dev/tensorflow/bert_en_uncased_preprocess/3'\n",
    "encoder_url = 'https://tfhub.dev/tensorflow/bert_en_uncased_L-12_H-768_A-12/4'\n",
    "bert_preprocess_model =hub.KerasLayer(preproces_url)\n"
   ]
  },
  {
   "cell_type": "code",
   "execution_count": null,
   "id": "5a951858",
   "metadata": {},
   "outputs": [],
   "source": [
    "#ym list is vectorized\n",
    "text_preprocessed=bert_preprocess_model(ym)\n",
    "text_preprocessed.keys()"
   ]
  },
  {
   "cell_type": "code",
   "execution_count": null,
   "id": "ff75f9cf",
   "metadata": {},
   "outputs": [],
   "source": [
    "bert_model=hub.KerasLayer(encoder_url)\n",
    "bert_results=bert_model(text_preprocessed)\n",
    "bert_results.keys()"
   ]
  },
  {
   "cell_type": "code",
   "execution_count": null,
   "id": "9840d6dd",
   "metadata": {},
   "outputs": [],
   "source": [
    "emb=bert_results['pooled_output']#refer video to understand this only coding part of it"
   ]
  },
  {
   "cell_type": "code",
   "execution_count": null,
   "id": "1ec3a565",
   "metadata": {},
   "outputs": [],
   "source": [
    "#Ym1 list is vectorized\n",
    "text_preprocessed1=bert_preprocess_model(ym1)\n",
    "text_preprocessed1.keys()"
   ]
  },
  {
   "cell_type": "code",
   "execution_count": null,
   "id": "0d1e26cf",
   "metadata": {},
   "outputs": [],
   "source": [
    "bert_results1=bert_model(text_preprocessed1)\n",
    "bert_results1.keys()\n",
    "emb1=bert_results1['sequence_output']#refer video to understand this only coding part of it"
   ]
  },
  {
   "cell_type": "code",
   "execution_count": null,
   "id": "67305c76",
   "metadata": {},
   "outputs": [],
   "source": [
    "from sklearn.metrics.pairwise import cosine_similarity,cosine_distances\n",
    "for i in range(len(emb1)):\n",
    "    print(cosine_similarity(emb,emb1[i]))"
   ]
  }
 ],
 "metadata": {
  "kernelspec": {
   "display_name": "Python 3",
   "language": "python",
   "name": "python3"
  },
  "language_info": {
   "codemirror_mode": {
    "name": "ipython",
    "version": 3
   },
   "file_extension": ".py",
   "mimetype": "text/x-python",
   "name": "python",
   "nbconvert_exporter": "python",
   "pygments_lexer": "ipython3",
   "version": "3.9.4"
  }
 },
 "nbformat": 4,
 "nbformat_minor": 5
}
